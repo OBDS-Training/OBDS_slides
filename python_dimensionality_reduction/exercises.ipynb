{
 "cells": [
  {
   "cell_type": "markdown",
   "id": "99b8ae44-7a5a-4e7d-9a6c-0333a078ff82",
   "metadata": {},
   "source": [
    "# Import statements\n",
    "\n",
    "This cell does not immediately contain all the statements.\n",
    "We come back to edit this cell as we identify new packages that we need:\n",
    "\n",
    "- First, we need `pandas` to load the data.\n",
    "- Then, we need `StandardScaler` to standardise the data.\n",
    "- Then, we need `PCA` to perform the analysis.\n",
    "- Then we need `pyplot` to visualise the PCA projection."
   ]
  },
  {
   "cell_type": "code",
   "execution_count": null,
   "id": "b541d680-f89b-41cd-9e85-f470bebdc125",
   "metadata": {},
   "outputs": [],
   "source": [
    "import pandas as pd\n",
    "from sklearn.preprocessing import StandardScaler\n",
    "from sklearn.decomposition import PCA\n",
    "import matplotlib.pyplot as plt\n",
    "import numpy as np\n",
    "import umap"
   ]
  },
  {
   "cell_type": "markdown",
   "id": "3fefcb1b-70f3-4e02-977b-e3ccf18c9992",
   "metadata": {},
   "source": [
    "Define the path to the file in a separate cell.\n",
    "Separate this global variable from the downstream code that uses it."
   ]
  },
  {
   "cell_type": "code",
   "execution_count": null,
   "id": "c583ceb9-ddb0-46eb-8ef0-1eaa666a8513",
   "metadata": {},
   "outputs": [],
   "source": [
    "iris_file_path = \"iris.data\""
   ]
  },
  {
   "cell_type": "markdown",
   "id": "c5dc9adc-8cc9-4afa-8e1d-6e7b5331a98b",
   "metadata": {},
   "source": [
    "Load the data naively.\n",
    "Demonstrate that the first row is incorrectly taken as column names."
   ]
  },
  {
   "cell_type": "code",
   "execution_count": null,
   "id": "a05311d7-7a2e-4d18-a56c-4fccbf039856",
   "metadata": {},
   "outputs": [],
   "source": [
    "iris_data = pd.read_csv(iris_file_path)\n",
    "iris_data.head()"
   ]
  },
  {
   "cell_type": "markdown",
   "id": "cc2ed55f-22ce-4ceb-afd7-1890762040e1",
   "metadata": {},
   "source": [
    "Demonstrate that in this case, there are no column names at all."
   ]
  },
  {
   "cell_type": "code",
   "execution_count": null,
   "id": "934f110f-d629-4f75-9e86-2c795e0b1321",
   "metadata": {},
   "outputs": [],
   "source": [
    "# loading dataset into Pandas DataFrame\n",
    "iris_data = pd.read_csv(iris_file_path, header=None)\n",
    "iris_data.head()"
   ]
  },
  {
   "cell_type": "markdown",
   "id": "37044757-f367-41c8-8a34-5c85b5a1c154",
   "metadata": {},
   "source": [
    "Manually provide column names."
   ]
  },
  {
   "cell_type": "code",
   "execution_count": null,
   "id": "0c22e392-252e-4494-8267-b0f0b3b8eae8",
   "metadata": {},
   "outputs": [],
   "source": [
    "iris_data = pd.read_csv(iris_file_path, names=['sepal length','sepal width','petal length','petal width','target'])\n",
    "iris_data.head(n=5)"
   ]
  },
  {
   "cell_type": "markdown",
   "id": "ea2d403c-8947-4f11-951a-d63b406e060e",
   "metadata": {},
   "source": [
    "# Split measurements and labels"
   ]
  },
  {
   "cell_type": "markdown",
   "id": "a08c6358-6a54-47c6-8f57-fd0fcaa82dec",
   "metadata": {},
   "source": [
    "Demonstrate the use and behaviour of the `loc` property."
   ]
  },
  {
   "cell_type": "code",
   "execution_count": null,
   "id": "0429053a-df0f-41fe-82b3-f1fda4c1773f",
   "metadata": {},
   "outputs": [],
   "source": [
    "iris_data.loc"
   ]
  },
  {
   "cell_type": "code",
   "execution_count": null,
   "id": "b0cd36ec-9cf4-4486-a3f1-c5107764bcbc",
   "metadata": {},
   "outputs": [],
   "source": [
    "iris_data.loc[:, ['target']].head()"
   ]
  },
  {
   "cell_type": "code",
   "execution_count": null,
   "id": "49aba29c-59b3-4168-880f-a90829d43d7a",
   "metadata": {},
   "outputs": [],
   "source": [
    "iris_class_values = iris_data.loc[:, ['target']].values\n",
    "iris_class_values[0:4]"
   ]
  },
  {
   "cell_type": "code",
   "execution_count": null,
   "id": "9e028826-8805-41e0-bc27-e98898b90e7b",
   "metadata": {},
   "outputs": [],
   "source": [
    "iris_features_names = ['sepal length', 'sepal width', 'petal length', 'petal width']\n",
    "iris_features = iris_data.loc[:, iris_features_names]\n",
    "iris_features.head()"
   ]
  },
  {
   "cell_type": "code",
   "execution_count": null,
   "id": "e167b687-7eea-4caa-967d-cfae3417acbb",
   "metadata": {},
   "outputs": [],
   "source": [
    "iris_features = iris_data.loc[:, iris_features_names].values\n",
    "iris_features[0:4, :]"
   ]
  },
  {
   "cell_type": "code",
   "execution_count": null,
   "id": "c9e91134-ca00-4c3b-84a6-aea8ac1a9a72",
   "metadata": {},
   "outputs": [],
   "source": [
    "iris_standardised = StandardScaler().fit_transform(iris_features)\n",
    "iris_standardised[0:4, :]"
   ]
  },
  {
   "cell_type": "code",
   "execution_count": null,
   "id": "dc4be0ce-b97f-4460-af91-25b53b41c872",
   "metadata": {},
   "outputs": [],
   "source": [
    "pd.DataFrame(data = iris_standardised, columns = iris_features_names).head()"
   ]
  },
  {
   "cell_type": "markdown",
   "id": "9fdd6c8f-389d-4b00-afc3-01f24f7c14b2",
   "metadata": {},
   "source": [
    "# Principal components analysis (PCA)"
   ]
  },
  {
   "cell_type": "code",
   "execution_count": null,
   "id": "9d2dfd7b-6f43-4984-a354-6159f624b95e",
   "metadata": {},
   "outputs": [],
   "source": [
    "pca_iris = PCA(n_components=4)\n",
    "pca_iris"
   ]
  },
  {
   "cell_type": "code",
   "execution_count": null,
   "id": "82057211-f119-4301-9b2f-7780b9b850a3",
   "metadata": {},
   "outputs": [],
   "source": [
    "principalComponents = pca_iris.fit_transform(iris_standardised)\n",
    "principalComponents[0:4, :]"
   ]
  },
  {
   "cell_type": "code",
   "execution_count": null,
   "id": "6ac404b9-c73e-4f56-9d58-9d95a4afb6b9",
   "metadata": {},
   "outputs": [],
   "source": [
    "pca_dataframe = pd.DataFrame(data = principalComponents\n",
    "             , columns = ['PC 1', 'PC 2', 'PC 3', 'PC 4'])\n",
    "pca_dataframe.head()"
   ]
  },
  {
   "cell_type": "code",
   "execution_count": null,
   "id": "46006dd6-6fdb-48b2-939c-ec90aecf371f",
   "metadata": {},
   "outputs": [],
   "source": [
    "fig = plt.figure(figsize = (8,8))\n",
    "ax = fig.add_subplot(1,1,1) \n",
    "ax.set_xlabel('PC 1', fontsize = 15)\n",
    "ax.set_ylabel('PC 2', fontsize = 15)\n",
    "ax.set_title('2 Component PCA', fontsize = 20)\n",
    "ax.scatter(pca_dataframe.loc[:, 'PC 1'],\n",
    "           pca_dataframe.loc[:, 'PC 2'])\n",
    "ax.grid()"
   ]
  },
  {
   "cell_type": "code",
   "execution_count": null,
   "id": "4935dc16-95d5-47a1-85ca-c63c7fb4564b",
   "metadata": {},
   "outputs": [],
   "source": [
    "pca_dataframe_labelled = pd.concat([pca_dataframe, iris_data[['target']]], axis = 1)\n",
    "pca_dataframe_labelled.head(5)"
   ]
  },
  {
   "cell_type": "code",
   "execution_count": null,
   "id": "5c512375-a973-4b86-aa59-9642bdf12a57",
   "metadata": {},
   "outputs": [],
   "source": [
    "fig = plt.figure(figsize = (8,8))\n",
    "ax = fig.add_subplot(1,1,1) \n",
    "ax.set_xlabel('PC 1', fontsize = 15)\n",
    "ax.set_ylabel('PC 2', fontsize = 15)\n",
    "ax.set_title('2 Component PCA', fontsize = 20)\n",
    "\n",
    "\n",
    "targets = ['Iris-setosa', 'Iris-versicolor', 'Iris-virginica']\n",
    "colors = ['r', 'g', 'b']\n",
    "for target, color in zip(targets,colors):\n",
    "    indicesToKeep = pca_dataframe_labelled['target'] == target\n",
    "    ax.scatter(pca_dataframe_labelled.loc[indicesToKeep, 'PC 1']\n",
    "               , pca_dataframe_labelled.loc[indicesToKeep, 'PC 2']\n",
    "               , c = color\n",
    "               , s = 50)\n",
    "ax.legend(targets)\n",
    "ax.grid()\n"
   ]
  },
  {
   "cell_type": "code",
   "execution_count": null,
   "id": "1c2716de-da4b-4489-b375-515d4ca3aabe",
   "metadata": {},
   "outputs": [],
   "source": [
    "pca_iris.explained_variance_ratio_"
   ]
  },
  {
   "cell_type": "code",
   "execution_count": null,
   "id": "1d8e0e98-e55b-46c0-8955-b5f1c9d9240a",
   "metadata": {},
   "outputs": [],
   "source": [
    "sum(pca_iris.explained_variance_ratio_)"
   ]
  },
  {
   "cell_type": "code",
   "execution_count": null,
   "id": "6e956553-0f03-492b-94e9-d983e256f623",
   "metadata": {},
   "outputs": [],
   "source": [
    "pca_variance_dataframe = pd.DataFrame(data = pca.explained_variance_ratio_, columns = [\"Explained variance ratio\"])\n",
    "pca_variance_dataframe"
   ]
  },
  {
   "cell_type": "code",
   "execution_count": null,
   "id": "d0b81643-33b0-47a7-b078-5e0722176407",
   "metadata": {},
   "outputs": [],
   "source": [
    "pca_variance_dataframe = pd.DataFrame(\n",
    "    data = {\n",
    "        \"Explained variance ratio\": pca.explained_variance_ratio_,\n",
    "        \"Principal component\": np.arange(1, len(pca.explained_variance_ratio_) + 1)})\n",
    "pca_variance_dataframe"
   ]
  },
  {
   "cell_type": "code",
   "execution_count": null,
   "id": "05aa7990-6575-485e-8fa6-3c372d0069c1",
   "metadata": {},
   "outputs": [],
   "source": [
    "fig = plt.figure(figsize = (8,8))\n",
    "ax = fig.add_subplot(1,1,1) \n",
    "ax.set_xlabel('Principal component', fontsize = 15)\n",
    "ax.set_ylabel('Explained variance ratio', fontsize = 15)\n",
    "ax.set_title('PCA explained variance ratio', fontsize = 20)\n",
    "ax.bar(x = pca_variance_dataframe.loc[:, \"Principal component\"],\n",
    "       height = pca_variance_dataframe.loc[:, \"Explained variance ratio\"])\n",
    "locs, labels = plt.xticks()  # Get the current locations and labels.\n",
    "plt.xticks(np.arange(min(pca_variance_dataframe.loc[:, \"Principal component\"]), max(pca_variance_dataframe.loc[:, \"Principal component\"]) + 1, 1))  # Set label locations.\n",
    "plt.yticks(np.arange(0, 1, 0.1))  # Set label locations.\n",
    "ax.grid()"
   ]
  },
  {
   "cell_type": "markdown",
   "id": "50d68730-29fe-47e0-9962-825055edfab2",
   "metadata": {},
   "source": [
    "# Uniform Manifold Approximation and Projection (UMAP)"
   ]
  },
  {
   "cell_type": "code",
   "execution_count": null,
   "id": "caf8e4cc-157e-4249-80f8-a09b4d83ae6b",
   "metadata": {},
   "outputs": [],
   "source": [
    "umap_reducer = umap.UMAP()\n",
    "umap_reducer"
   ]
  },
  {
   "cell_type": "code",
   "execution_count": null,
   "id": "acb4937c-f81f-4a8a-ac58-45cf8b10dac7",
   "metadata": {},
   "outputs": [],
   "source": [
    "umap_iris_embedding = umap_reducer.fit_transform(pca_dataframe)\n",
    "umap_iris_embedding.shape"
   ]
  },
  {
   "cell_type": "code",
   "execution_count": null,
   "id": "729371d8-a13f-469e-90c8-4d9e44a5cd7a",
   "metadata": {},
   "outputs": [],
   "source": [
    "umap_iris_dataframe = pd.DataFrame(data = umap_iris_embedding\n",
    "             , columns = ['UMAP 1', 'UMAP 2'])\n",
    "umap_iris_dataframe.head()"
   ]
  },
  {
   "cell_type": "code",
   "execution_count": null,
   "id": "bb7dd282-3766-44d2-b632-bcf46c17b83c",
   "metadata": {},
   "outputs": [],
   "source": [
    "umap_dataframe_labelled = pd.concat([umap_iris_dataframe, iris_data[['target']]], axis = 1)\n",
    "umap_dataframe_labelled.head(5)"
   ]
  },
  {
   "cell_type": "code",
   "execution_count": null,
   "id": "f7027b9f-68a3-44bc-a0d2-dd8db8cc1267",
   "metadata": {},
   "outputs": [],
   "source": [
    "fig = plt.figure(figsize = (8,8))\n",
    "ax = fig.add_subplot(1,1,1) \n",
    "ax.set_xlabel('UMAP 1', fontsize = 15)\n",
    "ax.set_ylabel('UMAP 2', fontsize = 15)\n",
    "ax.set_title('2 Component UMAP', fontsize = 20)\n",
    "\n",
    "\n",
    "targets = ['Iris-setosa', 'Iris-versicolor', 'Iris-virginica']\n",
    "colors = ['r', 'g', 'b']\n",
    "for target, color in zip(targets,colors):\n",
    "    indicesToKeep = umap_dataframe_labelled['target'] == target\n",
    "    ax.scatter(umap_dataframe_labelled.loc[indicesToKeep, 'UMAP 1']\n",
    "               , umap_dataframe_labelled.loc[indicesToKeep, 'UMAP 2']\n",
    "               , c = color\n",
    "               , s = 50)\n",
    "ax.legend(targets)\n",
    "ax.grid()\n"
   ]
  },
  {
   "cell_type": "code",
   "execution_count": null,
   "id": "0777982f-26e2-41eb-90d2-775743c6f9c8",
   "metadata": {},
   "outputs": [],
   "source": []
  }
 ],
 "metadata": {
  "kernelspec": {
   "display_name": "Python 3",
   "language": "python",
   "name": "python3"
  },
  "language_info": {
   "codemirror_mode": {
    "name": "ipython",
    "version": 3
   },
   "file_extension": ".py",
   "mimetype": "text/x-python",
   "name": "python",
   "nbconvert_exporter": "python",
   "pygments_lexer": "ipython3",
   "version": "3.8.5"
  }
 },
 "nbformat": 4,
 "nbformat_minor": 5
}
